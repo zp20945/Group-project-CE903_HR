{
 "cells": [
  {
   "cell_type": "markdown",
   "id": "b660009d",
   "metadata": {},
   "source": [
    "**MACHINE LEARNING**\n",
    "\n",
    "**HRV for detecting arousal**"
   ]
  },
  {
   "cell_type": "code",
   "execution_count": 3,
   "id": "783cb4b3",
   "metadata": {},
   "outputs": [],
   "source": [
    "# Libraries\n",
    "import pandas as pd\n",
    "import numpy as np\n",
    "from sklearn.model_selection import LeaveOneGroupOut, KFold, GridSearchCV\n",
    "from xgboost import XGBRegressor\n",
    "import matplotlib.pyplot as plt\n",
    "from sklearn.metrics import mean_squared_error, mean_absolute_error, r2_score, root_mean_squared_error\n",
    "import numpy as np\n",
    "from sklearn.model_selection import GridSearchCV, KFold\n",
    "import matplotlib.pyplot as plt\n",
    "import seaborn as sns\n",
    "from sklearn.ensemble import RandomForestRegressor\n"
   ]
  },
  {
   "cell_type": "code",
   "execution_count": 4,
   "id": "31ad199b",
   "metadata": {},
   "outputs": [
    {
     "data": {
      "text/html": [
       "<div>\n",
       "<style scoped>\n",
       "    .dataframe tbody tr th:only-of-type {\n",
       "        vertical-align: middle;\n",
       "    }\n",
       "\n",
       "    .dataframe tbody tr th {\n",
       "        vertical-align: top;\n",
       "    }\n",
       "\n",
       "    .dataframe thead th {\n",
       "        text-align: right;\n",
       "    }\n",
       "</style>\n",
       "<table border=\"1\" class=\"dataframe\">\n",
       "  <thead>\n",
       "    <tr style=\"text-align: right;\">\n",
       "      <th></th>\n",
       "      <th>Participant</th>\n",
       "      <th>Stimulus</th>\n",
       "      <th>Mean RR</th>\n",
       "      <th>Median RR</th>\n",
       "      <th>SDNN</th>\n",
       "      <th>RMSSD</th>\n",
       "      <th>NN50</th>\n",
       "      <th>pNN50</th>\n",
       "      <th>aVLF</th>\n",
       "      <th>aLF</th>\n",
       "      <th>...</th>\n",
       "      <th>F2_MinArea</th>\n",
       "      <th>F3_MaxArea</th>\n",
       "      <th>F4_MeanArea</th>\n",
       "      <th>F5_StdX</th>\n",
       "      <th>F6_StdY</th>\n",
       "      <th>F7_SkewX</th>\n",
       "      <th>F8_SkewY</th>\n",
       "      <th>F9_KurtX</th>\n",
       "      <th>F10_KurtY</th>\n",
       "      <th>Arousal</th>\n",
       "    </tr>\n",
       "  </thead>\n",
       "  <tbody>\n",
       "    <tr>\n",
       "      <th>0</th>\n",
       "      <td>7yqP3</td>\n",
       "      <td>HN_1</td>\n",
       "      <td>0.039210</td>\n",
       "      <td>0.093410</td>\n",
       "      <td>3.228654</td>\n",
       "      <td>1.120471</td>\n",
       "      <td>0.166667</td>\n",
       "      <td>1.336744</td>\n",
       "      <td>3.825702</td>\n",
       "      <td>3.813462</td>\n",
       "      <td>...</td>\n",
       "      <td>34.652642</td>\n",
       "      <td>-0.376342</td>\n",
       "      <td>0.925245</td>\n",
       "      <td>-0.981104</td>\n",
       "      <td>0.484386</td>\n",
       "      <td>-2.965765</td>\n",
       "      <td>0.550055</td>\n",
       "      <td>-0.512987</td>\n",
       "      <td>1.708991</td>\n",
       "      <td>0.163328</td>\n",
       "    </tr>\n",
       "    <tr>\n",
       "      <th>1</th>\n",
       "      <td>7yqP3</td>\n",
       "      <td>HN_2_H</td>\n",
       "      <td>0.166076</td>\n",
       "      <td>0.195852</td>\n",
       "      <td>0.243717</td>\n",
       "      <td>0.027057</td>\n",
       "      <td>-0.833333</td>\n",
       "      <td>-0.631082</td>\n",
       "      <td>0.411365</td>\n",
       "      <td>0.543677</td>\n",
       "      <td>...</td>\n",
       "      <td>10.188483</td>\n",
       "      <td>-0.186720</td>\n",
       "      <td>0.597721</td>\n",
       "      <td>-0.910749</td>\n",
       "      <td>0.001414</td>\n",
       "      <td>-2.237194</td>\n",
       "      <td>0.001238</td>\n",
       "      <td>-0.402162</td>\n",
       "      <td>0.002464</td>\n",
       "      <td>0.242072</td>\n",
       "    </tr>\n",
       "    <tr>\n",
       "      <th>2</th>\n",
       "      <td>7yqP3</td>\n",
       "      <td>HN_2_L</td>\n",
       "      <td>0.147075</td>\n",
       "      <td>0.133413</td>\n",
       "      <td>0.512842</td>\n",
       "      <td>0.319530</td>\n",
       "      <td>-1.000000</td>\n",
       "      <td>-1.000000</td>\n",
       "      <td>1.460010</td>\n",
       "      <td>1.646523</td>\n",
       "      <td>...</td>\n",
       "      <td>14.390826</td>\n",
       "      <td>-0.383948</td>\n",
       "      <td>0.740808</td>\n",
       "      <td>-0.933247</td>\n",
       "      <td>-0.026650</td>\n",
       "      <td>-1.942930</td>\n",
       "      <td>-0.031684</td>\n",
       "      <td>-0.594319</td>\n",
       "      <td>-0.076915</td>\n",
       "      <td>-0.302404</td>\n",
       "    </tr>\n",
       "    <tr>\n",
       "      <th>3</th>\n",
       "      <td>7yqP3</td>\n",
       "      <td>HN_3_H</td>\n",
       "      <td>-0.048725</td>\n",
       "      <td>0.036448</td>\n",
       "      <td>2.725267</td>\n",
       "      <td>-0.041174</td>\n",
       "      <td>-0.500000</td>\n",
       "      <td>-0.280134</td>\n",
       "      <td>1.228109</td>\n",
       "      <td>0.365673</td>\n",
       "      <td>...</td>\n",
       "      <td>26.289432</td>\n",
       "      <td>-0.162096</td>\n",
       "      <td>0.856847</td>\n",
       "      <td>-0.964765</td>\n",
       "      <td>-0.014276</td>\n",
       "      <td>1.669547</td>\n",
       "      <td>-0.017171</td>\n",
       "      <td>0.026110</td>\n",
       "      <td>-0.042298</td>\n",
       "      <td>0.246764</td>\n",
       "    </tr>\n",
       "    <tr>\n",
       "      <th>4</th>\n",
       "      <td>7yqP3</td>\n",
       "      <td>HN_3_L</td>\n",
       "      <td>0.040518</td>\n",
       "      <td>0.068274</td>\n",
       "      <td>0.045487</td>\n",
       "      <td>0.178456</td>\n",
       "      <td>-0.666667</td>\n",
       "      <td>-0.332359</td>\n",
       "      <td>0.726585</td>\n",
       "      <td>0.904300</td>\n",
       "      <td>...</td>\n",
       "      <td>14.476670</td>\n",
       "      <td>-0.229274</td>\n",
       "      <td>0.610427</td>\n",
       "      <td>-0.936812</td>\n",
       "      <td>0.022560</td>\n",
       "      <td>-0.997235</td>\n",
       "      <td>0.027340</td>\n",
       "      <td>-0.344528</td>\n",
       "      <td>0.069222</td>\n",
       "      <td>-0.318291</td>\n",
       "    </tr>\n",
       "  </tbody>\n",
       "</table>\n",
       "<p>5 rows × 32 columns</p>\n",
       "</div>"
      ],
      "text/plain": [
       "  Participant Stimulus   Mean RR  Median RR      SDNN     RMSSD      NN50  \\\n",
       "0       7yqP3     HN_1  0.039210   0.093410  3.228654  1.120471  0.166667   \n",
       "1       7yqP3   HN_2_H  0.166076   0.195852  0.243717  0.027057 -0.833333   \n",
       "2       7yqP3   HN_2_L  0.147075   0.133413  0.512842  0.319530 -1.000000   \n",
       "3       7yqP3   HN_3_H -0.048725   0.036448  2.725267 -0.041174 -0.500000   \n",
       "4       7yqP3   HN_3_L  0.040518   0.068274  0.045487  0.178456 -0.666667   \n",
       "\n",
       "      pNN50      aVLF       aLF  ...  F2_MinArea  F3_MaxArea  F4_MeanArea  \\\n",
       "0  1.336744  3.825702  3.813462  ...   34.652642   -0.376342     0.925245   \n",
       "1 -0.631082  0.411365  0.543677  ...   10.188483   -0.186720     0.597721   \n",
       "2 -1.000000  1.460010  1.646523  ...   14.390826   -0.383948     0.740808   \n",
       "3 -0.280134  1.228109  0.365673  ...   26.289432   -0.162096     0.856847   \n",
       "4 -0.332359  0.726585  0.904300  ...   14.476670   -0.229274     0.610427   \n",
       "\n",
       "    F5_StdX   F6_StdY  F7_SkewX  F8_SkewY  F9_KurtX  F10_KurtY   Arousal  \n",
       "0 -0.981104  0.484386 -2.965765  0.550055 -0.512987   1.708991  0.163328  \n",
       "1 -0.910749  0.001414 -2.237194  0.001238 -0.402162   0.002464  0.242072  \n",
       "2 -0.933247 -0.026650 -1.942930 -0.031684 -0.594319  -0.076915 -0.302404  \n",
       "3 -0.964765 -0.014276  1.669547 -0.017171  0.026110  -0.042298  0.246764  \n",
       "4 -0.936812  0.022560 -0.997235  0.027340 -0.344528   0.069222 -0.318291  \n",
       "\n",
       "[5 rows x 32 columns]"
      ]
     },
     "execution_count": 4,
     "metadata": {},
     "output_type": "execute_result"
    }
   ],
   "source": [
    "# Loading the dataset\n",
    "file = r\"C:\\Users\\Salin\\OneDrive\\Documentos\\ESSEX\\DSPROJECT\\PPG_HR_Analysis_Longer_Intervals\\Grey_Cal\\norm_Grey_Cal_Start_arousal.csv\"\n",
    "df = pd.read_csv(file)\n",
    "\n",
    "# Displaying info\n",
    "df.head()"
   ]
  },
  {
   "cell_type": "code",
   "execution_count": 5,
   "id": "7acd5ce1",
   "metadata": {},
   "outputs": [],
   "source": [
    "X = df.drop(columns=['Participant', 'Stimulus', 'Arousal'])\n",
    "y = df['Arousal']\n",
    "groups = df['Participant']"
   ]
  },
  {
   "cell_type": "code",
   "execution_count": 6,
   "id": "9a0406a5",
   "metadata": {},
   "outputs": [],
   "source": [
    "def evaluate_regression(true_values, predicted_values):\n",
    "    mse = mean_squared_error(true_values, predicted_values)\n",
    "    rmse = np.sqrt(mse)\n",
    "    mae = mean_absolute_error(true_values, predicted_values)\n",
    "    r2 = r2_score(true_values, predicted_values)\n",
    "\n",
    "    print(f\"RMSE: {rmse:.3f}\")\n",
    "    print(f\"MAE: {mae:.3f}\")\n",
    "    print(f\"R² Score: {r2:.3f}\")\n",
    "\n",
    "    return"
   ]
  },
  {
   "cell_type": "markdown",
   "id": "c93310b7",
   "metadata": {},
   "source": [
    "**XGBOOST REGRESSOR**"
   ]
  },
  {
   "cell_type": "code",
   "execution_count": 7,
   "id": "9f122a22",
   "metadata": {},
   "outputs": [],
   "source": [
    "logo = LeaveOneGroupOut()"
   ]
  },
  {
   "cell_type": "code",
   "execution_count": 8,
   "id": "3e584a1e",
   "metadata": {},
   "outputs": [
    {
     "name": "stdout",
     "output_type": "stream",
     "text": [
      "LOPO without hyperparameter tuning:\n",
      "RMSE: 0.285\n",
      "MAE: 0.233\n",
      "R² Score: -0.006\n"
     ]
    }
   ],
   "source": [
    "true_values = []\n",
    "predicted_values = []\n",
    "\n",
    "for train_idx, test_idx in logo.split(X, y, groups):\n",
    "    X_train, X_test = X.iloc[train_idx], X.iloc[test_idx]\n",
    "    y_train, y_test = y.iloc[train_idx], y.iloc[test_idx]\n",
    "\n",
    "    model = XGBRegressor(n_estimators=100, random_state=42)\n",
    "    model.fit(X_train, y_train)\n",
    "    y_pred = model.predict(X_test)\n",
    "\n",
    "    true_values.extend(y_test)\n",
    "    predicted_values.extend(y_pred)\n",
    "\n",
    "print(\"LOPO without hyperparameter tuning:\")\n",
    "evaluate_regression(true_values, predicted_values)\n"
   ]
  },
  {
   "cell_type": "code",
   "execution_count": 9,
   "id": "54033336",
   "metadata": {},
   "outputs": [
    {
     "data": {
      "text/plain": [
       "F1_CrossingPoints   -0.199111\n",
       "NN50                -0.153291\n",
       "F3_MaxArea          -0.146636\n",
       "F9_KurtX            -0.079978\n",
       "F4_MeanArea          0.057464\n",
       "F2_MinArea           0.051227\n",
       "F10_KurtY            0.037820\n",
       "F6_StdY              0.037238\n",
       "F8_SkewY             0.036542\n",
       "pNN50               -0.033472\n",
       "dtype: float64"
      ]
     },
     "execution_count": 9,
     "metadata": {},
     "output_type": "execute_result"
    }
   ],
   "source": [
    "global_corr = X.corrwith(y)\n",
    "global_corr = global_corr.sort_values(key=abs, ascending=False)\n",
    "global_corr.head(10)"
   ]
  },
  {
   "cell_type": "code",
   "execution_count": 10,
   "id": "38901a2e",
   "metadata": {},
   "outputs": [
    {
     "data": {
      "text/plain": [
       "NN50               342\n",
       "pNN50              342\n",
       "Parasympathetic     19\n",
       "F2_MinArea          19\n",
       "F3_MaxArea          19\n",
       "F4_MeanArea         19\n",
       "F5_StdX             19\n",
       "F6_StdY             19\n",
       "F7_SkewX            19\n",
       "F8_SkewY            19\n",
       "F9_KurtX            19\n",
       "F10_KurtY           19\n",
       "dtype: int64"
      ]
     },
     "execution_count": 10,
     "metadata": {},
     "output_type": "execute_result"
    }
   ],
   "source": [
    "# Checking number of missing values per column\n",
    "missing_counts = X.isna().sum()\n",
    "\n",
    "# Displaying only columns that have missing values\n",
    "missing_counts[missing_counts > 0].sort_values(ascending=False)"
   ]
  },
  {
   "cell_type": "code",
   "execution_count": 11,
   "id": "3a4bdfac",
   "metadata": {},
   "outputs": [],
   "source": [
    "selected_features = ['F1_CrossingPoints', 'NN50']  \n",
    "X = df[selected_features]"
   ]
  },
  {
   "cell_type": "code",
   "execution_count": 12,
   "id": "4c78c0b2",
   "metadata": {},
   "outputs": [
    {
     "name": "stdout",
     "output_type": "stream",
     "text": [
      "LOPO without hyperparameter tuning with most significant features:\n",
      "RMSE: 0.316\n",
      "MAE: 0.255\n",
      "R² Score: -0.233\n"
     ]
    }
   ],
   "source": [
    "true_values = []\n",
    "predicted_values = []\n",
    "\n",
    "for train_idx, test_idx in logo.split(X, y, groups):\n",
    "    X_train, X_test = X.iloc[train_idx], X.iloc[test_idx]\n",
    "    y_train, y_test = y.iloc[train_idx], y.iloc[test_idx]\n",
    "\n",
    "    model = XGBRegressor(n_estimators=100, random_state=42)\n",
    "    model.fit(X_train, y_train)\n",
    "    y_pred = model.predict(X_test)\n",
    "\n",
    "    true_values.extend(y_test)\n",
    "    predicted_values.extend(y_pred)\n",
    "\n",
    "print(\"LOPO without hyperparameter tuning with most significant features:\")\n",
    "evaluate_regression(true_values, predicted_values)"
   ]
  },
  {
   "cell_type": "code",
   "execution_count": 13,
   "id": "2f558a30",
   "metadata": {},
   "outputs": [
    {
     "name": "stdout",
     "output_type": "stream",
     "text": [
      "Nested LOPO with hyperparameter tuning:\n",
      "RMSE: 0.269\n",
      "MAE: 0.236\n",
      "R² Score: 0.103\n"
     ]
    }
   ],
   "source": [
    "true_values = []\n",
    "predicted_values = []\n",
    "results = [] \n",
    "param_grid = {\n",
    "    'n_estimators': [100, 200],\n",
    "    'max_depth': [3, 5],\n",
    "    'learning_rate': [0.01, 0.1],\n",
    "    'subsample': [0.8, 1.0]\n",
    "}\n",
    "\n",
    "for train_idx, test_idx in logo.split(X, y, groups):\n",
    "    X_train, X_test = X.iloc[train_idx], X.iloc[test_idx]\n",
    "    y_train, y_test = y.iloc[train_idx], y.iloc[test_idx]\n",
    "    test_participant = groups.iloc[test_idx].unique()[0]\n",
    "\n",
    "    inner_cv = KFold(n_splits=5, shuffle=True, random_state=42)\n",
    "    grid = GridSearchCV(XGBRegressor(random_state=42), param_grid,\n",
    "                        cv=inner_cv, scoring='neg_mean_squared_error', n_jobs=-1)\n",
    "    grid.fit(X_train, y_train)\n",
    "    best_model = grid.best_estimator_\n",
    "\n",
    "    y_pred = best_model.predict(X_test)\n",
    "\n",
    "    true_values.extend(y_test)\n",
    "    predicted_values.extend(y_pred)\n",
    "\n",
    "    rmse = root_mean_squared_error(y_test, y_pred)\n",
    "\n",
    "    # Saving Parameters \n",
    "    results.append({\n",
    "        'Participant': test_participant,\n",
    "        'RMSE': rmse,\n",
    "        **grid.best_params_\n",
    "    })\n",
    "\n",
    "print(\"Nested LOPO with hyperparameter tuning:\")\n",
    "evaluate_regression(true_values, predicted_values)\n",
    "\n",
    "# For further use if necessary to check the best parameters\n",
    "results_df = pd.DataFrame(results)\n",
    "params_df = results_df.drop(columns=['Participant', 'RMSE'])"
   ]
  },
  {
   "cell_type": "markdown",
   "id": "85122944",
   "metadata": {},
   "source": [
    "Best Parameters per Participant\n",
    "\n",
    "To understand whether certain model configurations generalize better, the best hyperparameters selected during each LOPO iteration were tracked.\n",
    "\n",
    "Below:\n",
    "- The most commonly selected configuration.\n",
    "- The configuration that resulted in the lowest average RMSE across participants.\n"
   ]
  },
  {
   "cell_type": "code",
   "execution_count": 14,
   "id": "37d3ba86",
   "metadata": {},
   "outputs": [
    {
     "name": "stdout",
     "output_type": "stream",
     "text": [
      "Most Common Configurations:\n"
     ]
    },
    {
     "data": {
      "text/html": [
       "<div>\n",
       "<style scoped>\n",
       "    .dataframe tbody tr th:only-of-type {\n",
       "        vertical-align: middle;\n",
       "    }\n",
       "\n",
       "    .dataframe tbody tr th {\n",
       "        vertical-align: top;\n",
       "    }\n",
       "\n",
       "    .dataframe thead th {\n",
       "        text-align: right;\n",
       "    }\n",
       "</style>\n",
       "<table border=\"1\" class=\"dataframe\">\n",
       "  <thead>\n",
       "    <tr style=\"text-align: right;\">\n",
       "      <th></th>\n",
       "      <th>learning_rate</th>\n",
       "      <th>max_depth</th>\n",
       "      <th>n_estimators</th>\n",
       "      <th>subsample</th>\n",
       "      <th>Count</th>\n",
       "    </tr>\n",
       "  </thead>\n",
       "  <tbody>\n",
       "    <tr>\n",
       "      <th>0</th>\n",
       "      <td>0.01</td>\n",
       "      <td>3</td>\n",
       "      <td>200</td>\n",
       "      <td>0.8</td>\n",
       "      <td>43</td>\n",
       "    </tr>\n",
       "  </tbody>\n",
       "</table>\n",
       "</div>"
      ],
      "text/plain": [
       "   learning_rate  max_depth  n_estimators  subsample  Count\n",
       "0           0.01          3           200        0.8     43"
      ]
     },
     "metadata": {},
     "output_type": "display_data"
    },
    {
     "name": "stdout",
     "output_type": "stream",
     "text": [
      "Best Performing Configurations (Lowest Avg. RMSE):\n"
     ]
    },
    {
     "data": {
      "text/html": [
       "<div>\n",
       "<style scoped>\n",
       "    .dataframe tbody tr th:only-of-type {\n",
       "        vertical-align: middle;\n",
       "    }\n",
       "\n",
       "    .dataframe tbody tr th {\n",
       "        vertical-align: top;\n",
       "    }\n",
       "\n",
       "    .dataframe thead th {\n",
       "        text-align: right;\n",
       "    }\n",
       "</style>\n",
       "<table border=\"1\" class=\"dataframe\">\n",
       "  <thead>\n",
       "    <tr style=\"text-align: right;\">\n",
       "      <th></th>\n",
       "      <th>n_estimators</th>\n",
       "      <th>max_depth</th>\n",
       "      <th>learning_rate</th>\n",
       "      <th>subsample</th>\n",
       "      <th>RMSE</th>\n",
       "    </tr>\n",
       "  </thead>\n",
       "  <tbody>\n",
       "    <tr>\n",
       "      <th>0</th>\n",
       "      <td>200</td>\n",
       "      <td>3</td>\n",
       "      <td>0.01</td>\n",
       "      <td>0.8</td>\n",
       "      <td>0.263863</td>\n",
       "    </tr>\n",
       "  </tbody>\n",
       "</table>\n",
       "</div>"
      ],
      "text/plain": [
       "   n_estimators  max_depth  learning_rate  subsample      RMSE\n",
       "0           200          3           0.01        0.8  0.263863"
      ]
     },
     "metadata": {},
     "output_type": "display_data"
    }
   ],
   "source": [
    "# The most used configuration\n",
    "most_common_configs = (\n",
    "    params_df.value_counts()\n",
    "    .reset_index(name='Count')\n",
    "    .sort_values(by='Count', ascending=False)\n",
    "    .head(3)\n",
    ")\n",
    "print(\"Most Common Configurations:\")\n",
    "display(most_common_configs)\n",
    "\n",
    "# The best config for better results\n",
    "best_avg_configs = (\n",
    "    results_df\n",
    "    .groupby(['n_estimators', 'max_depth', 'learning_rate', 'subsample'])['RMSE']\n",
    "    .mean()\n",
    "    .reset_index()\n",
    "    .sort_values(by='RMSE')\n",
    "    .head(3)\n",
    ")\n",
    "print(\"Best Performing Configurations (Lowest Avg. RMSE):\")\n",
    "display(best_avg_configs)\n"
   ]
  },
  {
   "cell_type": "markdown",
   "id": "de03f252",
   "metadata": {},
   "source": [
    "**Random Forest Regressor**"
   ]
  },
  {
   "cell_type": "code",
   "execution_count": null,
   "id": "61676415",
   "metadata": {},
   "outputs": [
    {
     "name": "stdout",
     "output_type": "stream",
     "text": [
      "RMSE: 0.303\n",
      "MAE: 0.246\n",
      "R² Score: -0.137\n"
     ]
    }
   ],
   "source": [
    "X = X.fillna(X.mean())\n",
    "\n",
    "true_values = []\n",
    "predicted_values = []\n",
    "\n",
    "for train_idx, test_idx in logo.split(X, y, groups):\n",
    "    X_train, X_test = X.iloc[train_idx], X.iloc[test_idx]\n",
    "    y_train, y_test = y.iloc[train_idx], y.iloc[test_idx]\n",
    "\n",
    "    model = RandomForestRegressor(n_estimators=100, random_state=42)\n",
    "    model.fit(X_train, y_train)\n",
    "    y_pred = model.predict(X_test)\n",
    "\n",
    "    true_values.extend(y_test)\n",
    "    predicted_values.extend(y_pred)\n",
    "\n",
    "print(\"R\")\n",
    "evaluate_regression(true_values, predicted_values)\n",
    "    "
   ]
  },
  {
   "cell_type": "code",
   "execution_count": null,
   "id": "80e39f93",
   "metadata": {},
   "outputs": [
    {
     "name": "stdout",
     "output_type": "stream",
     "text": [
      "RMSE: 0.281\n",
      "MAE: 0.234\n",
      "R² Score: 0.023\n"
     ]
    }
   ],
   "source": [
    "# Resultados finales\n",
    "true_values = []\n",
    "predicted_values = []\n",
    "best_params_list = []\n",
    "\n",
    "# Hyperparameters tunning\n",
    "param_grid = {\n",
    "    'n_estimators': [100, 200],\n",
    "    'max_depth': [None, 10, 20],\n",
    "    'min_samples_split': [2, 5],\n",
    "    'min_samples_leaf': [1, 2]\n",
    "}\n",
    "\n",
    "for train_idx, test_idx in logo.split(X, y, groups):\n",
    "    X_train, X_test = X.iloc[train_idx], X.iloc[test_idx]\n",
    "    y_train, y_test = y.iloc[train_idx], y.iloc[test_idx]\n",
    "\n",
    "    inner_cv = KFold(n_splits=5, shuffle=True, random_state=42)\n",
    "\n",
    "    grid = GridSearchCV(\n",
    "        estimator=RandomForestRegressor(random_state=42),\n",
    "        param_grid=param_grid,\n",
    "        cv=inner_cv,\n",
    "        scoring='neg_mean_squared_error',\n",
    "        n_jobs=-1\n",
    "    )\n",
    "\n",
    "    grid.fit(X_train, y_train)\n",
    "    best_model = grid.best_estimator_\n",
    "\n",
    "    y_pred = best_model.predict(X_test)\n",
    "\n",
    "    true_values.extend(y_test)\n",
    "    predicted_values.extend(y_pred)\n",
    "    best_params_list.append(grid.best_params_)\n",
    "\n",
    "evaluate_regression(true_values, predicted_values)"
   ]
  },
  {
   "cell_type": "code",
   "execution_count": 18,
   "id": "7436f4f8",
   "metadata": {},
   "outputs": [
    {
     "name": "stdout",
     "output_type": "stream",
     "text": [
      "\n",
      "Best hyperparameters per participant:\n"
     ]
    },
    {
     "data": {
      "text/plain": [
       "max_depth  min_samples_leaf  min_samples_split  n_estimators\n",
       "10         2                 5                  100             25\n",
       "                                                200             17\n",
       "           1                 5                  100              1\n",
       "Name: count, dtype: int64"
      ]
     },
     "metadata": {},
     "output_type": "display_data"
    }
   ],
   "source": [
    "best_params_df = pd.DataFrame(best_params_list)\n",
    "print(\"\\nBest hyperparameters per participant:\")\n",
    "display(best_params_df.value_counts().head())"
   ]
  }
 ],
 "metadata": {
  "kernelspec": {
   "display_name": "Python 3",
   "language": "python",
   "name": "python3"
  },
  "language_info": {
   "codemirror_mode": {
    "name": "ipython",
    "version": 3
   },
   "file_extension": ".py",
   "mimetype": "text/x-python",
   "name": "python",
   "nbconvert_exporter": "python",
   "pygments_lexer": "ipython3",
   "version": "3.11.3"
  }
 },
 "nbformat": 4,
 "nbformat_minor": 5
}
