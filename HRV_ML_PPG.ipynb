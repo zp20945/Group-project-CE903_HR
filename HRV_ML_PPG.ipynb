{
 "cells": [
  {
   "cell_type": "markdown",
   "id": "b660009d",
   "metadata": {},
   "source": [
    "**MACHINE LEARNING**\n",
    "\n",
    "**HRV for detecting arousal**"
   ]
  },
  {
   "cell_type": "code",
   "execution_count": 40,
   "id": "783cb4b3",
   "metadata": {},
   "outputs": [],
   "source": [
    "# Libraries\n",
    "import pandas as pd\n",
    "import numpy as np\n",
    "from sklearn.model_selection import LeaveOneGroupOut, KFold, GridSearchCV\n",
    "from xgboost import XGBRegressor\n",
    "import matplotlib.pyplot as plt\n",
    "from sklearn.metrics import mean_squared_error, mean_absolute_error, r2_score, root_mean_squared_error\n",
    "import numpy as np\n",
    "from sklearn.model_selection import GridSearchCV, KFold\n",
    "import matplotlib.pyplot as plt\n",
    "import seaborn as sns\n",
    "from sklearn.ensemble import RandomForestRegressor\n",
    "from sklearn.feature_selection import mutual_info_regression\n",
    "from sklearn.svm import SVR\n",
    "from sklearn.preprocessing import StandardScaler\n",
    "from sklearn.pipeline import make_pipeline\n",
    "from sklearn.linear_model import ElasticNet"
   ]
  },
  {
   "cell_type": "code",
   "execution_count": 3,
   "id": "31ad199b",
   "metadata": {},
   "outputs": [
    {
     "data": {
      "text/plain": [
       "2052"
      ]
     },
     "execution_count": 3,
     "metadata": {},
     "output_type": "execute_result"
    }
   ],
   "source": [
    "# Loading the dataset\n",
    "#file = r\"C:\\Users\\Salin\\OneDrive\\Documentos\\ESSEX\\DSPROJECT\\PPG_HR_Analysis_Longer_Intervals_\\PPG\\merged_features_norm_grey_arousal.csv\"\n",
    "file = r\"C:\\Users\\Salin\\OneDrive\\Documentos\\ESSEX\\DSPROJECT\\PPG_HR_Analysis_Longer_Intervals_\\PPG\\merged_features_norm_grey_new_arousal.csv\"\n",
    "df = pd.read_csv(file)\n",
    "\n",
    "# Displaying info\n",
    "df.head()\n",
    "len(df)"
   ]
  },
  {
   "cell_type": "code",
   "execution_count": 4,
   "id": "7acd5ce1",
   "metadata": {},
   "outputs": [],
   "source": [
    "X = df.drop(columns=['Participant', 'Stimulus', 'Arousal'])\n",
    "y = df['Arousal']\n",
    "groups = df['Participant']"
   ]
  },
  {
   "cell_type": "code",
   "execution_count": 5,
   "id": "9a0406a5",
   "metadata": {},
   "outputs": [],
   "source": [
    "def evaluate_regression(true_values, predicted_values):\n",
    "    mse = mean_squared_error(true_values, predicted_values)\n",
    "    rmse = np.sqrt(mse)\n",
    "    mae = mean_absolute_error(true_values, predicted_values)\n",
    "    r2 = r2_score(true_values, predicted_values)\n",
    "\n",
    "    print(f\"RMSE: {rmse:.3f}\")\n",
    "    print(f\"MAE: {mae:.3f}\")\n",
    "    print(f\"R² Score: {r2:.3f}\")\n",
    "    return"
   ]
  },
  {
   "cell_type": "markdown",
   "id": "c93310b7",
   "metadata": {},
   "source": [
    "**XGBOOST REGRESSOR**"
   ]
  },
  {
   "cell_type": "code",
   "execution_count": 6,
   "id": "9f122a22",
   "metadata": {},
   "outputs": [],
   "source": [
    "logo = LeaveOneGroupOut()"
   ]
  },
  {
   "cell_type": "code",
   "execution_count": 7,
   "id": "3e584a1e",
   "metadata": {},
   "outputs": [
    {
     "name": "stdout",
     "output_type": "stream",
     "text": [
      "LOPO without hyperparameter tuning:\n",
      "RMSE: 0.168\n",
      "MAE: 0.132\n",
      "R² Score: 0.227\n"
     ]
    }
   ],
   "source": [
    "true_values = []\n",
    "predicted_values = []\n",
    "\n",
    "for train_idx, test_idx in logo.split(X, y, groups):\n",
    "    X_train, X_test = X.iloc[train_idx], X.iloc[test_idx]\n",
    "    y_train, y_test = y.iloc[train_idx], y.iloc[test_idx]\n",
    "\n",
    "    model = XGBRegressor(n_estimators=100, random_state=42)\n",
    "    model.fit(X_train, y_train)\n",
    "    y_pred = model.predict(X_test)\n",
    "\n",
    "    true_values.extend(y_test)\n",
    "    predicted_values.extend(y_pred)\n",
    "\n",
    "print(\"LOPO without hyperparameter tuning:\")\n",
    "evaluate_regression(true_values, predicted_values)\n"
   ]
  },
  {
   "cell_type": "code",
   "execution_count": 8,
   "id": "54033336",
   "metadata": {},
   "outputs": [
    {
     "data": {
      "text/plain": [
       "F1_CrossingPoints   -0.351969\n",
       "pVLF                -0.151748\n",
       "aVLF                -0.109718\n",
       "pLF                  0.100511\n",
       "F3_MaxArea          -0.086162\n",
       "nLF                  0.071986\n",
       "F9_KurtX            -0.060054\n",
       "aTotal              -0.053120\n",
       "nHF                 -0.046888\n",
       "NN50                -0.045010\n",
       "dtype: float64"
      ]
     },
     "execution_count": 8,
     "metadata": {},
     "output_type": "execute_result"
    }
   ],
   "source": [
    "global_corr = X.corrwith(y)\n",
    "global_corr = global_corr.sort_values(key=abs, ascending=False)\n",
    "global_corr.head(10)"
   ]
  },
  {
   "cell_type": "code",
   "execution_count": 9,
   "id": "6d7fd6d3",
   "metadata": {},
   "outputs": [
    {
     "data": {
      "text/plain": [
       "Series([], dtype: int64)"
      ]
     },
     "execution_count": 9,
     "metadata": {},
     "output_type": "execute_result"
    }
   ],
   "source": [
    "# Checking number of missing values per column\n",
    "missing_counts = X.isna().sum()\n",
    "\n",
    "# Displaying only columns that have missing values\n",
    "missing_counts[missing_counts > 0].sort_values(ascending=False)"
   ]
  },
  {
   "cell_type": "code",
   "execution_count": 10,
   "id": "d119d196",
   "metadata": {},
   "outputs": [],
   "source": [
    "X_mi = X.copy()\n",
    "\n",
    "# Filling NaNs with column means \n",
    "X_mi = X_mi.fillna(X_mi.mean())"
   ]
  },
  {
   "cell_type": "code",
   "execution_count": 11,
   "id": "9cfcab84",
   "metadata": {},
   "outputs": [
    {
     "data": {
      "text/plain": [
       "<Axes: title={'center': 'Mutual Information Scores'}>"
      ]
     },
     "execution_count": 11,
     "metadata": {},
     "output_type": "execute_result"
    },
    {
     "data": {
      "image/png": "[encoded data removed]",
      "text/plain": [
       "<Figure size 1200x600 with 1 Axes>"
      ]
     },
     "metadata": {},
     "output_type": "display_data"
    }
   ],
   "source": [
    "# MI between each feature and arousal\n",
    "mi_scores = mutual_info_regression(X_mi, y, random_state=42)\n",
    "mi_series = pd.Series(mi_scores, index=X.columns)\n",
    "mi_series.sort_values(ascending=False).plot(kind='bar', figsize=(12, 6), title='Mutual Information Scores')"
   ]
  },
  {
   "cell_type": "code",
   "execution_count": 12,
   "id": "c2aec563",
   "metadata": {},
   "outputs": [
    {
     "data": {
      "text/plain": [
       "pVLF                 0.165426\n",
       "aVLF                 0.133885\n",
       "F1_CrossingPoints    0.133037\n",
       "NN50                 0.124604\n",
       "nLF                  0.041493\n",
       "nHF                  0.040712\n",
       "pLF                  0.037955\n",
       "aTotal               0.031338\n",
       "aHF                  0.030152\n",
       "pNN50                0.023663\n",
       "RMSSD                0.023284\n",
       "F3_MaxArea           0.017775\n",
       "SD1                  0.017523\n",
       "SD2                  0.015862\n",
       "LF/HF                0.014821\n",
       "F2_MinArea           0.014177\n",
       "aLF                  0.013822\n",
       "SDNN                 0.004924\n",
       "pHF                  0.004887\n",
       "Mean RR              0.000000\n",
       "dtype: float64"
      ]
     },
     "execution_count": 12,
     "metadata": {},
     "output_type": "execute_result"
    }
   ],
   "source": [
    "mi_series.sort_values(ascending=False).head(20)"
   ]
  },
  {
   "cell_type": "code",
   "execution_count": 33,
   "id": "3a4bdfac",
   "metadata": {},
   "outputs": [
    {
     "data": {
      "text/html": [
       "<div>\n",
       "<style scoped>\n",
       "    .dataframe tbody tr th:only-of-type {\n",
       "        vertical-align: middle;\n",
       "    }\n",
       "\n",
       "    .dataframe tbody tr th {\n",
       "        vertical-align: top;\n",
       "    }\n",
       "\n",
       "    .dataframe thead th {\n",
       "        text-align: right;\n",
       "    }\n",
       "</style>\n",
       "<table border=\"1\" class=\"dataframe\">\n",
       "  <thead>\n",
       "    <tr style=\"text-align: right;\">\n",
       "      <th></th>\n",
       "      <th>RMSSD</th>\n",
       "      <th>NN50</th>\n",
       "      <th>pNN50</th>\n",
       "      <th>aVLF</th>\n",
       "      <th>aHF</th>\n",
       "      <th>aTotal</th>\n",
       "      <th>pVLF</th>\n",
       "      <th>pLF</th>\n",
       "      <th>nLF</th>\n",
       "      <th>nHF</th>\n",
       "      <th>F1_CrossingPoints</th>\n",
       "    </tr>\n",
       "  </thead>\n",
       "  <tbody>\n",
       "    <tr>\n",
       "      <th>0</th>\n",
       "      <td>0.352012</td>\n",
       "      <td>-0.471698</td>\n",
       "      <td>0.199388</td>\n",
       "      <td>-1.000000</td>\n",
       "      <td>1.194322</td>\n",
       "      <td>0.949087</td>\n",
       "      <td>-1.000000</td>\n",
       "      <td>-0.616404</td>\n",
       "      <td>-0.617551</td>\n",
       "      <td>0.122455</td>\n",
       "      <td>-0.538462</td>\n",
       "    </tr>\n",
       "    <tr>\n",
       "      <th>1</th>\n",
       "      <td>0.700875</td>\n",
       "      <td>-0.528302</td>\n",
       "      <td>0.278150</td>\n",
       "      <td>-1.000000</td>\n",
       "      <td>0.537748</td>\n",
       "      <td>0.463529</td>\n",
       "      <td>-1.000000</td>\n",
       "      <td>-0.237624</td>\n",
       "      <td>-0.239903</td>\n",
       "      <td>0.047571</td>\n",
       "      <td>-0.532967</td>\n",
       "    </tr>\n",
       "    <tr>\n",
       "      <th>2</th>\n",
       "      <td>0.587072</td>\n",
       "      <td>-0.811321</td>\n",
       "      <td>0.219158</td>\n",
       "      <td>-1.000000</td>\n",
       "      <td>2.454736</td>\n",
       "      <td>1.874433</td>\n",
       "      <td>-1.000000</td>\n",
       "      <td>-1.000000</td>\n",
       "      <td>-1.000000</td>\n",
       "      <td>0.198291</td>\n",
       "      <td>-0.802198</td>\n",
       "    </tr>\n",
       "    <tr>\n",
       "      <th>3</th>\n",
       "      <td>0.246371</td>\n",
       "      <td>-0.169811</td>\n",
       "      <td>0.162264</td>\n",
       "      <td>8.750069</td>\n",
       "      <td>-0.468002</td>\n",
       "      <td>-0.413262</td>\n",
       "      <td>15.617413</td>\n",
       "      <td>0.187468</td>\n",
       "      <td>0.245816</td>\n",
       "      <td>-0.048743</td>\n",
       "      <td>-0.049451</td>\n",
       "    </tr>\n",
       "    <tr>\n",
       "      <th>4</th>\n",
       "      <td>0.242915</td>\n",
       "      <td>-0.547170</td>\n",
       "      <td>-0.024673</td>\n",
       "      <td>-1.000000</td>\n",
       "      <td>0.637673</td>\n",
       "      <td>0.515692</td>\n",
       "      <td>-1.000000</td>\n",
       "      <td>-0.387740</td>\n",
       "      <td>-0.389570</td>\n",
       "      <td>0.077248</td>\n",
       "      <td>-0.560440</td>\n",
       "    </tr>\n",
       "  </tbody>\n",
       "</table>\n",
       "</div>"
      ],
      "text/plain": [
       "      RMSSD      NN50     pNN50      aVLF       aHF    aTotal       pVLF  \\\n",
       "0  0.352012 -0.471698  0.199388 -1.000000  1.194322  0.949087  -1.000000   \n",
       "1  0.700875 -0.528302  0.278150 -1.000000  0.537748  0.463529  -1.000000   \n",
       "2  0.587072 -0.811321  0.219158 -1.000000  2.454736  1.874433  -1.000000   \n",
       "3  0.246371 -0.169811  0.162264  8.750069 -0.468002 -0.413262  15.617413   \n",
       "4  0.242915 -0.547170 -0.024673 -1.000000  0.637673  0.515692  -1.000000   \n",
       "\n",
       "        pLF       nLF       nHF  F1_CrossingPoints  \n",
       "0 -0.616404 -0.617551  0.122455          -0.538462  \n",
       "1 -0.237624 -0.239903  0.047571          -0.532967  \n",
       "2 -1.000000 -1.000000  0.198291          -0.802198  \n",
       "3  0.187468  0.245816 -0.048743          -0.049451  \n",
       "4 -0.387740 -0.389570  0.077248          -0.560440  "
      ]
     },
     "execution_count": 33,
     "metadata": {},
     "output_type": "execute_result"
    }
   ],
   "source": [
    "selected_features = selected_features = mi_series[mi_series > 0.02].index.tolist()\n",
    "X = df[selected_features]\n",
    "X.head()"
   ]
  },
  {
   "cell_type": "code",
   "execution_count": 34,
   "id": "54d1d24a",
   "metadata": {},
   "outputs": [
    {
     "name": "stdout",
     "output_type": "stream",
     "text": [
      "Total raws after deleting the Nans: 2052\n"
     ]
    }
   ],
   "source": [
    "filtered_df = df.dropna(subset=selected_features + ['Arousal'])  # Keeping only valid raws\n",
    "print(f\"Total raws after deleting the Nans:\", len(filtered_df))"
   ]
  },
  {
   "cell_type": "code",
   "execution_count": 35,
   "id": "c78bc1cb",
   "metadata": {},
   "outputs": [],
   "source": [
    "X = filtered_df[selected_features]\n",
    "y = filtered_df['Arousal']\n",
    "groups = filtered_df['Participant']"
   ]
  },
  {
   "cell_type": "code",
   "execution_count": 36,
   "id": "4c78c0b2",
   "metadata": {},
   "outputs": [
    {
     "name": "stdout",
     "output_type": "stream",
     "text": [
      "LOPO without hyperparameter tuning with most significant features:\n",
      "RMSE: 0.169\n",
      "MAE: 0.132\n",
      "R² Score: 0.218\n"
     ]
    }
   ],
   "source": [
    "true_values = []\n",
    "predicted_values = []\n",
    "\n",
    "for train_idx, test_idx in logo.split(X, y, groups):\n",
    "    X_train, X_test = X.iloc[train_idx], X.iloc[test_idx]\n",
    "    y_train, y_test = y.iloc[train_idx], y.iloc[test_idx]\n",
    "\n",
    "    model = XGBRegressor(n_estimators=100, random_state=42)\n",
    "    model.fit(X_train, y_train)\n",
    "    y_pred = model.predict(X_test)\n",
    "\n",
    "    true_values.extend(y_test)\n",
    "    predicted_values.extend(y_pred)\n",
    "\n",
    "print(\"LOPO without hyperparameter tuning with most significant features:\")\n",
    "evaluate_regression(true_values, predicted_values)"
   ]
  },
  {
   "cell_type": "code",
   "execution_count": 31,
   "id": "2f558a30",
   "metadata": {},
   "outputs": [
    {
     "name": "stdout",
     "output_type": "stream",
     "text": [
      "Nested LOPO with hyperparameter tuning:\n",
      "RMSE: 0.154\n",
      "MAE: 0.128\n",
      "R² Score: 0.350\n"
     ]
    }
   ],
   "source": [
    "true_values = []\n",
    "predicted_values = []\n",
    "results = [] \n",
    "param_grid = {\n",
    "    'n_estimators': [100, 200],\n",
    "    'max_depth': [3, 5],\n",
    "    'learning_rate': [0.01, 0.1],\n",
    "    'subsample': [0.8, 1.0]\n",
    "}\n",
    "\n",
    "for train_idx, test_idx in logo.split(X, y, groups):\n",
    "    X_train, X_test = X.iloc[train_idx], X.iloc[test_idx]\n",
    "    y_train, y_test = y.iloc[train_idx], y.iloc[test_idx]\n",
    "    test_participant = groups.iloc[test_idx].unique()[0]\n",
    "\n",
    "    inner_cv = KFold(n_splits=5, shuffle=True, random_state=42)\n",
    "    grid = GridSearchCV(XGBRegressor(random_state=42), param_grid,\n",
    "                        cv=inner_cv, scoring='neg_mean_squared_error', n_jobs=-1)\n",
    "    grid.fit(X_train, y_train)\n",
    "    best_model = grid.best_estimator_\n",
    "\n",
    "    y_pred = best_model.predict(X_test)\n",
    "\n",
    "    true_values.extend(y_test)\n",
    "    predicted_values.extend(y_pred)\n",
    "\n",
    "    rmse = root_mean_squared_error(y_test, y_pred)\n",
    "\n",
    "    # Saving Parameters \n",
    "    results.append({\n",
    "        'Participant': test_participant,\n",
    "        'RMSE': rmse,\n",
    "        **grid.best_params_\n",
    "    })\n",
    "\n",
    "print(\"Nested LOPO with hyperparameter tuning:\")\n",
    "evaluate_regression(true_values, predicted_values)\n",
    "\n",
    "# For further use if necessary to check the best parameters\n",
    "results_df = pd.DataFrame(results)\n",
    "params_df = results_df.drop(columns=['Participant', 'RMSE'])"
   ]
  },
  {
   "cell_type": "markdown",
   "id": "85122944",
   "metadata": {},
   "source": [
    "Best Parameters per Participant\n",
    "\n",
    "To understand whether certain model configurations generalize better, the best hyperparameters selected during each LOPO iteration were tracked.\n",
    "\n",
    "Below:\n",
    "- The most commonly selected configuration.\n",
    "- The configuration that resulted in the lowest average RMSE across participants.\n"
   ]
  },
  {
   "cell_type": "code",
   "execution_count": 18,
   "id": "37d3ba86",
   "metadata": {},
   "outputs": [
    {
     "name": "stdout",
     "output_type": "stream",
     "text": [
      "Most Common Configurations:\n"
     ]
    },
    {
     "data": {
      "text/html": [
       "<div>\n",
       "<style scoped>\n",
       "    .dataframe tbody tr th:only-of-type {\n",
       "        vertical-align: middle;\n",
       "    }\n",
       "\n",
       "    .dataframe tbody tr th {\n",
       "        vertical-align: top;\n",
       "    }\n",
       "\n",
       "    .dataframe thead th {\n",
       "        text-align: right;\n",
       "    }\n",
       "</style>\n",
       "<table border=\"1\" class=\"dataframe\">\n",
       "  <thead>\n",
       "    <tr style=\"text-align: right;\">\n",
       "      <th></th>\n",
       "      <th>learning_rate</th>\n",
       "      <th>max_depth</th>\n",
       "      <th>n_estimators</th>\n",
       "      <th>subsample</th>\n",
       "      <th>Count</th>\n",
       "    </tr>\n",
       "  </thead>\n",
       "  <tbody>\n",
       "    <tr>\n",
       "      <th>0</th>\n",
       "      <td>0.01</td>\n",
       "      <td>3</td>\n",
       "      <td>200</td>\n",
       "      <td>1.0</td>\n",
       "      <td>23</td>\n",
       "    </tr>\n",
       "    <tr>\n",
       "      <th>1</th>\n",
       "      <td>0.01</td>\n",
       "      <td>3</td>\n",
       "      <td>200</td>\n",
       "      <td>0.8</td>\n",
       "      <td>22</td>\n",
       "    </tr>\n",
       "    <tr>\n",
       "      <th>2</th>\n",
       "      <td>0.01</td>\n",
       "      <td>5</td>\n",
       "      <td>200</td>\n",
       "      <td>0.8</td>\n",
       "      <td>6</td>\n",
       "    </tr>\n",
       "  </tbody>\n",
       "</table>\n",
       "</div>"
      ],
      "text/plain": [
       "   learning_rate  max_depth  n_estimators  subsample  Count\n",
       "0           0.01          3           200        1.0     23\n",
       "1           0.01          3           200        0.8     22\n",
       "2           0.01          5           200        0.8      6"
      ]
     },
     "metadata": {},
     "output_type": "display_data"
    },
    {
     "name": "stdout",
     "output_type": "stream",
     "text": [
      "Best Performing Configurations (Lowest Avg. RMSE):\n"
     ]
    },
    {
     "data": {
      "text/html": [
       "<div>\n",
       "<style scoped>\n",
       "    .dataframe tbody tr th:only-of-type {\n",
       "        vertical-align: middle;\n",
       "    }\n",
       "\n",
       "    .dataframe tbody tr th {\n",
       "        vertical-align: top;\n",
       "    }\n",
       "\n",
       "    .dataframe thead th {\n",
       "        text-align: right;\n",
       "    }\n",
       "</style>\n",
       "<table border=\"1\" class=\"dataframe\">\n",
       "  <thead>\n",
       "    <tr style=\"text-align: right;\">\n",
       "      <th></th>\n",
       "      <th>n_estimators</th>\n",
       "      <th>max_depth</th>\n",
       "      <th>learning_rate</th>\n",
       "      <th>subsample</th>\n",
       "      <th>RMSE</th>\n",
       "    </tr>\n",
       "  </thead>\n",
       "  <tbody>\n",
       "    <tr>\n",
       "      <th>1</th>\n",
       "      <td>200</td>\n",
       "      <td>3</td>\n",
       "      <td>0.01</td>\n",
       "      <td>1.0</td>\n",
       "      <td>0.149731</td>\n",
       "    </tr>\n",
       "    <tr>\n",
       "      <th>0</th>\n",
       "      <td>200</td>\n",
       "      <td>3</td>\n",
       "      <td>0.01</td>\n",
       "      <td>0.8</td>\n",
       "      <td>0.150436</td>\n",
       "    </tr>\n",
       "    <tr>\n",
       "      <th>2</th>\n",
       "      <td>200</td>\n",
       "      <td>5</td>\n",
       "      <td>0.01</td>\n",
       "      <td>0.8</td>\n",
       "      <td>0.153039</td>\n",
       "    </tr>\n",
       "  </tbody>\n",
       "</table>\n",
       "</div>"
      ],
      "text/plain": [
       "   n_estimators  max_depth  learning_rate  subsample      RMSE\n",
       "1           200          3           0.01        1.0  0.149731\n",
       "0           200          3           0.01        0.8  0.150436\n",
       "2           200          5           0.01        0.8  0.153039"
      ]
     },
     "metadata": {},
     "output_type": "display_data"
    }
   ],
   "source": [
    "# The most used configuration\n",
    "most_common_configs = (\n",
    "    params_df.value_counts()\n",
    "    .reset_index(name='Count')\n",
    "    .sort_values(by='Count', ascending=False)\n",
    "    .head(3)\n",
    ")\n",
    "print(\"Most Common Configurations:\")\n",
    "display(most_common_configs)\n",
    "\n",
    "# The best config for better results\n",
    "best_avg_configs = (\n",
    "    results_df\n",
    "    .groupby(['n_estimators', 'max_depth', 'learning_rate', 'subsample'])['RMSE']\n",
    "    .mean()\n",
    "    .reset_index()\n",
    "    .sort_values(by='RMSE')\n",
    "    .head(3)\n",
    ")\n",
    "print(\"Best Performing Configurations (Lowest Avg. RMSE):\")\n",
    "display(best_avg_configs)\n"
   ]
  },
  {
   "cell_type": "markdown",
   "id": "de03f252",
   "metadata": {},
   "source": [
    "**Random Forest Regressor**"
   ]
  },
  {
   "cell_type": "code",
   "execution_count": 19,
   "id": "61676415",
   "metadata": {},
   "outputs": [
    {
     "name": "stdout",
     "output_type": "stream",
     "text": [
      "RMSE: 0.156\n",
      "MAE: 0.125\n",
      "R² Score: 0.340\n"
     ]
    }
   ],
   "source": [
    "true_values = []\n",
    "predicted_values = []\n",
    "\n",
    "for train_idx, test_idx in logo.split(X, y, groups):\n",
    "    X_train, X_test = X.iloc[train_idx], X.iloc[test_idx]\n",
    "    y_train, y_test = y.iloc[train_idx], y.iloc[test_idx]\n",
    "\n",
    "    model = RandomForestRegressor(n_estimators=100, random_state=42)\n",
    "    model.fit(X_train, y_train)\n",
    "    y_pred = model.predict(X_test)\n",
    "\n",
    "    true_values.extend(y_test)\n",
    "    predicted_values.extend(y_pred)\n",
    "\n",
    "evaluate_regression(true_values, predicted_values)\n",
    "    "
   ]
  },
  {
   "cell_type": "code",
   "execution_count": 20,
   "id": "80e39f93",
   "metadata": {},
   "outputs": [
    {
     "name": "stdout",
     "output_type": "stream",
     "text": [
      "RMSE: 0.154\n",
      "MAE: 0.122\n",
      "R² Score: 0.357\n"
     ]
    }
   ],
   "source": [
    "true_values = []\n",
    "predicted_values = []\n",
    "best_params_list = []\n",
    "\n",
    "# Hyperparameters tunning\n",
    "param_grid = {\n",
    "    'n_estimators': [100, 200],\n",
    "    'max_depth': [None, 10, 20],\n",
    "    'min_samples_split': [2, 5],\n",
    "    'min_samples_leaf': [1, 2]\n",
    "}\n",
    "\n",
    "for train_idx, test_idx in logo.split(X, y, groups):\n",
    "    X_train, X_test = X.iloc[train_idx], X.iloc[test_idx]\n",
    "    y_train, y_test = y.iloc[train_idx], y.iloc[test_idx]\n",
    "\n",
    "    inner_cv = KFold(n_splits=5, shuffle=True, random_state=42)\n",
    "\n",
    "    grid = GridSearchCV(\n",
    "        estimator=RandomForestRegressor(random_state=42),\n",
    "        param_grid=param_grid,\n",
    "        cv=inner_cv,\n",
    "        scoring='neg_mean_squared_error',\n",
    "        n_jobs=-1\n",
    "    )\n",
    "\n",
    "    grid.fit(X_train, y_train)\n",
    "    best_model = grid.best_estimator_\n",
    "\n",
    "    y_pred = best_model.predict(X_test)\n",
    "\n",
    "    true_values.extend(y_test)\n",
    "    predicted_values.extend(y_pred)\n",
    "    best_params_list.append(grid.best_params_)\n",
    "\n",
    "evaluate_regression(true_values, predicted_values)"
   ]
  },
  {
   "cell_type": "code",
   "execution_count": 21,
   "id": "7436f4f8",
   "metadata": {},
   "outputs": [
    {
     "name": "stdout",
     "output_type": "stream",
     "text": [
      "\n",
      "Best hyperparameters per participant:\n"
     ]
    },
    {
     "data": {
      "text/plain": [
       "max_depth  min_samples_leaf  min_samples_split  n_estimators\n",
       "10         2                 2                  200             22\n",
       "                             5                  200             21\n",
       "                             2                  100              7\n",
       "           1                 2                  200              3\n",
       "           2                 5                  100              1\n",
       "Name: count, dtype: int64"
      ]
     },
     "metadata": {},
     "output_type": "display_data"
    }
   ],
   "source": [
    "best_params_df = pd.DataFrame(best_params_list)\n",
    "print(\"\\nBest hyperparameters per participant:\")\n",
    "display(best_params_df.value_counts().head())"
   ]
  },
  {
   "cell_type": "markdown",
   "id": "178597c7",
   "metadata": {},
   "source": [
    "Support Vector Regressor"
   ]
  },
  {
   "cell_type": "code",
   "execution_count": 38,
   "id": "33b5bcac",
   "metadata": {},
   "outputs": [
    {
     "name": "stdout",
     "output_type": "stream",
     "text": [
      "SVR (rbf) with LOPO Results:\n",
      "RMSE: 0.170\n",
      "MAE: 0.139\n",
      "R² Score: 0.207\n"
     ]
    }
   ],
   "source": [
    "true_values = []\n",
    "predicted_values = []\n",
    "\n",
    "\n",
    "for train_idx, test_idx in logo.split(X, y, groups):\n",
    "    X_train, X_test = X.iloc[train_idx], X.iloc[test_idx]\n",
    "    y_train, y_test = y.iloc[train_idx], y.iloc[test_idx]\n",
    "\n",
    "    model = make_pipeline(\n",
    "        StandardScaler(),\n",
    "        SVR(kernel='rbf', C=1.0, gamma='scale')\n",
    "    )\n",
    "\n",
    "    model.fit(X_train, y_train)\n",
    "    y_pred = model.predict(X_test)\n",
    "\n",
    "    true_values.extend(y_test)\n",
    "    predicted_values.extend(y_pred)\n",
    "\n",
    "# \n",
    "print(\"SVR (rbf) with LOPO Results:\")\n",
    "evaluate_regression(true_values, predicted_values)"
   ]
  },
  {
   "cell_type": "code",
   "execution_count": 39,
   "id": "9ace5d0b",
   "metadata": {},
   "outputs": [
    {
     "name": "stdout",
     "output_type": "stream",
     "text": [
      "SVR (rbf) + Hyperparameter Tuning (LOPO):\n",
      "RMSE: 0.170\n",
      "MAE: 0.139\n",
      "R² Score: 0.209\n"
     ]
    }
   ],
   "source": [
    "true_values = []\n",
    "predicted_values = []\n",
    "results = []\n",
    "\n",
    "param_grid = {\n",
    "    'svr__C': [0.1, 1, 10],\n",
    "    'svr__gamma': ['scale', 0.01, 0.001],\n",
    "    'svr__kernel': ['rbf']\n",
    "}\n",
    "\n",
    "for train_idx, test_idx in logo.split(X, y, groups):\n",
    "    X_train, X_test = X.iloc[train_idx], X.iloc[test_idx]\n",
    "    y_train, y_test = y.iloc[train_idx], y.iloc[test_idx]\n",
    "    test_participant = groups.iloc[test_idx].unique()[0]\n",
    "\n",
    "    pipeline = make_pipeline(StandardScaler(), SVR())\n",
    "\n",
    "    \n",
    "    inner_cv = KFold(n_splits=5, shuffle=True, random_state=42)\n",
    "\n",
    "    # GridSearchCV \n",
    "    grid = GridSearchCV(\n",
    "        estimator=pipeline,\n",
    "        param_grid=param_grid,\n",
    "        cv=inner_cv,\n",
    "        scoring='neg_mean_squared_error',\n",
    "        n_jobs=-1\n",
    "    )\n",
    "\n",
    "    grid.fit(X_train, y_train)\n",
    "    best_model = grid.best_estimator_\n",
    "\n",
    "    y_pred = best_model.predict(X_test)\n",
    "\n",
    "    true_values.extend(y_test)\n",
    "    predicted_values.extend(y_pred)\n",
    "\n",
    "    rmse = np.sqrt(mean_squared_error(y_test, y_pred))\n",
    "\n",
    "    results.append({\n",
    "        'Participant': test_participant,\n",
    "        'RMSE': rmse,\n",
    "        **grid.best_params_\n",
    "    })\n",
    "\n",
    "print(\"SVR (rbf) + Hyperparameter Tuning (LOPO):\")\n",
    "evaluate_regression(true_values, predicted_values)\n",
    "\n",
    "results_df = pd.DataFrame(results)\n",
    "params_df = results_df.drop(columns=['Participant', 'RMSE'])"
   ]
  }
 ],
 "metadata": {
  "kernelspec": {
   "display_name": "Python 3",
   "language": "python",
   "name": "python3"
  },
  "language_info": {
   "codemirror_mode": {
    "name": "ipython",
    "version": 3
   },
   "file_extension": ".py",
   "mimetype": "text/x-python",
   "name": "python",
   "nbconvert_exporter": "python",
   "pygments_lexer": "ipython3",
   "version": "3.11.3"
  }
 },
 "nbformat": 4,
 "nbformat_minor": 5
}
